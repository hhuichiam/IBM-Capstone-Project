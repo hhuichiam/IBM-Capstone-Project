{
 "cells": [
  {
   "cell_type": "markdown",
   "metadata": {},
   "source": [
    "<center>\n",
    "    <img src=\"https://gitlab.com/ibm/skills-network/courses/placeholder101/-/raw/master/labs/module%201/images/IDSNlogo.png\" width=\"300\" alt=\"cognitiveclass.ai logo\"  />\n",
    "</center>\n"
   ]
  },
  {
   "cell_type": "markdown",
   "metadata": {},
   "source": [
    "# **Web Scraping Lab**\n"
   ]
  },
  {
   "cell_type": "markdown",
   "metadata": {},
   "source": [
    "Estimated time needed: **30** minutes\n"
   ]
  },
  {
   "cell_type": "markdown",
   "metadata": {},
   "source": [
    "## Objectives\n"
   ]
  },
  {
   "cell_type": "markdown",
   "metadata": {},
   "source": [
    "After completing this lab you will be able to:\n"
   ]
  },
  {
   "cell_type": "markdown",
   "metadata": {},
   "source": [
    "-   Download a webpage using requests module\n",
    "-   Scrape all links from a web page\n",
    "-   Scrape all image urls from a web page\n",
    "-   Scrape data from html tables\n"
   ]
  },
  {
   "cell_type": "markdown",
   "metadata": {},
   "source": [
    "## Scrape [www.ibm.com](http://www.ibm.com?cm_mmc=Email_Newsletter-_-Developer_Ed%2BTech-_-WW_WW-_-SkillsNetwork-Courses-IBM-DA0321EN-SkillsNetwork-21426264&cm_mmca1=000026UJ&cm_mmca2=10006555&cm_mmca3=M12345678&cvosrc=email.Newsletter.M12345678&cvo_campaign=000026UJ&cm_mmc=Email_Newsletter-_-Developer_Ed%2BTech-_-WW_WW-_-SkillsNetwork-Courses-IBM-DA0321EN-SkillsNetwork-21426264&cm_mmca1=000026UJ&cm_mmca2=10006555&cm_mmca3=M12345678&cvosrc=email.Newsletter.M12345678&cvo_campaign=000026UJ)\n"
   ]
  },
  {
   "cell_type": "markdown",
   "metadata": {},
   "source": [
    "Import the required modules and functions\n"
   ]
  },
  {
   "cell_type": "code",
   "execution_count": 1,
   "metadata": {},
   "outputs": [],
   "source": [
    "from bs4 import BeautifulSoup # this module helps in web scrapping.\n",
    "import requests  # this module helps us to download a web page"
   ]
  },
  {
   "cell_type": "markdown",
   "metadata": {},
   "source": [
    "Download the contents of the web page\n"
   ]
  },
  {
   "cell_type": "code",
   "execution_count": 2,
   "metadata": {},
   "outputs": [],
   "source": [
    "url = \"http://www.ibm.com\""
   ]
  },
  {
   "cell_type": "code",
   "execution_count": 3,
   "metadata": {},
   "outputs": [],
   "source": [
    "# get the contents of the webpage in text format and store in a variable called data\n",
    "data  = requests.get(url).text "
   ]
  },
  {
   "cell_type": "markdown",
   "metadata": {},
   "source": [
    "Create a soup object using the class BeautifulSoup\n"
   ]
  },
  {
   "cell_type": "code",
   "execution_count": 4,
   "metadata": {},
   "outputs": [],
   "source": [
    "soup = BeautifulSoup(data,\"html5lib\")  # create a soup object using the variable 'data'"
   ]
  },
  {
   "cell_type": "markdown",
   "metadata": {},
   "source": [
    "Scrape all links\n"
   ]
  },
  {
   "cell_type": "code",
   "execution_count": 5,
   "metadata": {},
   "outputs": [
    {
     "name": "stdout",
     "output_type": "stream",
     "text": [
      "#main-content\n",
      "http://www.ibm.com\n",
      "https://developer.ibm.com/callforcode/?lnk=ushpv18l1\n",
      "https://www.ibm.com/cloud/hybrid/value-calculator/?lnk=ushpv18f1\n",
      "https://www.ibm.com/watson/women-leaders-in-ai?lnk=ushpv18f2\n",
      "https://www.ibm.com/services/consulting?lnk=ushpv18f3\n",
      "https://www.ibm.com/cloud/cloud-pak-for-watson-aiops?lnk=ushpv18f4\n",
      "https://www.ibm.com/products/offers-and-discounts?link=ushpv18t5&lnk2=trial_mktpl_MPDISC\n",
      "https://www.ibm.com/cloud/openpages-with-watson?lnk=ushpv18t1&lnk2=trial_OpnPgsWat&psrc=none&pexp=def\n",
      "https://www.ibm.com/products/blueworkslive?lnk=ushpv18t2&lnk2=trial_BluLive&psrc=none&pexp=def\n",
      "https://www.ibm.com/cloud/blog/instana?lnk=ushpv18t3&lnk2=trial_Instana&psrc=none&pexp=def\n",
      "https://www.ibm.com/cloud/free?lnk=ushpv18t4&lnk2=trial_Cloud&psrc=none&pexp=def\n",
      "https://www.ibm.com/search?lnk=ushpv18srch&locale=en-us&q=\n",
      "https://www.ibm.com/products?lnk=ushpv18p1&lnk2=trial_mktpl&psrc=none&pexp=def\n",
      "None\n",
      "None\n",
      "https://developer.ibm.com/depmodels/cloud/?lnk=ushpv18ct16\n",
      "https://developer.ibm.com/technologies/artificial-intelligence?lnk=ushpv18ct19\n",
      "https://www.ibm.com/demos/?lnk=ushpv18ct12\n",
      "https://developer.ibm.com/?lnk=ushpv18ct9\n",
      "http://www.ibm.com/support/knowledgecenter/?lnk=ushpv18ct14\n",
      "https://www.redbooks.ibm.com/?lnk=ushpv18ct10\n",
      "https://www.ibm.com/support/home/?lnk=ushpv18ct11\n",
      "https://www.ibm.com/training/?lnk=ushpv18ct15\n",
      "https://www.ibm.com/cloud/hybrid?lnk=ushpv18ct20\n",
      "https://www.ibm.com/cloud/public?lnk=ushpv18ct17\n",
      "https://www.ibm.com/cloud/redhat?lnk=ushpv18ct13\n",
      "https://www.ibm.com/artificial-intelligence?lnk=ushpv18ct3\n",
      "https://www.ibm.com/quantum-computing?lnk=ushpv18ct18\n",
      "https://www.ibm.com/cloud/learn/kubernetes?lnk=ushpv18ct8\n",
      "https://www.ibm.com/products/spss-statistics?lnk=ushpv18ct7\n",
      "https://www.ibm.com/blockchain?lnk=ushpv18ct1\n",
      "https://www-03.ibm.com/employment/technicaltalent/developer/?lnk=ushpv18ct2\n",
      "https://www.ibm.com/search?lnk=ushpv18srch&locale=en-us&q=\n",
      "https://www.ibm.com/products?lnk=ushpv18p1&lnk2=trial_mktpl&psrc=none&pexp=def\n",
      "None\n",
      "None\n",
      "https://www.ibm.com/cloud/hybrid?lnk=ushpv18pt14&bv=true\n",
      "https://www.ibm.com/watson?lnk=ushpv18pt17&bv=true\n",
      "https://www.ibm.com/us-en/products/categories?technologyTopics[0][0]=cat.topic:Blockchain&isIBMOffering[0]=true&lnk=ushpv18pt4&bv=true\n",
      "https://www.ibm.com/us-en/products/category/technology/analytics?lnk=ushpv18pt1&bv=true\n",
      "https://www.ibm.com/financing?lnk=ushpv18pt3&bv=true\n",
      "https://www.ibm.com/cloud/public?lnk=ushpv18pt15&bv=true\n",
      "https://www.ibm.com/garage?lnk=ushpv18pt13&bv=true\n",
      "https://www.ibm.com/thought-leadership/institute-business-value/?lnk=ushpv18pt12&bv=true\n",
      "https://www.ibm.com/us-en/products/category/technology/security?lnk=ushpv18pt9&bv=true\n",
      "https://www.ibm.com/quantum-computing?lnk=ushpv18pt16&bv=true\n",
      "https://www.ibm.com/cloud/hybrid?lnk=ushpv18ct20\n",
      "https://www.ibm.com/cloud/public?lnk=ushpv18ct17\n",
      "https://www.ibm.com/cloud/redhat?lnk=ushpv18ct13\n",
      "https://www.ibm.com/artificial-intelligence?lnk=ushpv18ct3\n",
      "https://www.ibm.com/quantum-computing?lnk=ushpv18ct18\n",
      "https://www.ibm.com/cloud/learn/kubernetes?lnk=ushpv18ct8\n",
      "https://www.ibm.com/products/spss-statistics?lnk=ushpv18ct7\n",
      "https://www.ibm.com/blockchain?lnk=ushpv18ct1\n",
      "https://www-03.ibm.com/employment/technicaltalent/developer/?lnk=ushpv18ct2\n",
      "https://developer.ibm.com/solutions/application-modernization/?lnk=ushpv18d1\n",
      "https://www.ibm.com/\n"
     ]
    }
   ],
   "source": [
    "for link in soup.find_all('a'):  # in html anchor/link is represented by the tag <a>\n",
    "    print(link.get('href'))"
   ]
  },
  {
   "cell_type": "markdown",
   "metadata": {},
   "source": [
    "Scrape  all images\n"
   ]
  },
  {
   "cell_type": "code",
   "execution_count": 6,
   "metadata": {},
   "outputs": [
    {
     "name": "stdout",
     "output_type": "stream",
     "text": [
      "data:image/svg+xml;base64,PHN2ZyB3aWR0aD0iMTA1NSIgaGVpZ2h0PSI1MjcuNSIgeG1sbnM9Imh0dHA6Ly93d3cudzMub3JnLzIwMDAvc3ZnIiB2ZXJzaW9uPSIxLjEiLz4=\n",
      "https://1.dam.s81c.com/public/content/dam/worldwide-content/homepage/ul/g/8d/ce/20210322-call-for-code-climate%20change-25785-720x360.jpg\n",
      "data:image/svg+xml;base64,PHN2ZyB3aWR0aD0iNDQwIiBoZWlnaHQ9IjMyMCIgeG1sbnM9Imh0dHA6Ly93d3cudzMub3JnLzIwMDAvc3ZnIiB2ZXJzaW9uPSIxLjEiLz4=\n",
      "https://1.dam.s81c.com/public/content/dam/worldwide-content/homepage/ul/g/0b/91/20210318-f-hybrid-cloud-value-calculator-v2-25783.jpg\n",
      "data:image/svg+xml;base64,PHN2ZyB3aWR0aD0iNDQwIiBoZWlnaHQ9IjMyMCIgeG1sbnM9Imh0dHA6Ly93d3cudzMub3JnLzIwMDAvc3ZnIiB2ZXJzaW9uPSIxLjEiLz4=\n",
      "https://1.dam.s81c.com/public/content/dam/worldwide-content/homepage/ul/g/6f/ae/20210322-f-women-leaders-in-ai.jpg\n",
      "data:image/svg+xml;base64,PHN2ZyB3aWR0aD0iNDQwIiBoZWlnaHQ9IjMyMCIgeG1sbnM9Imh0dHA6Ly93d3cudzMub3JnLzIwMDAvc3ZnIiB2ZXJzaW9uPSIxLjEiLz4=\n",
      "https://1.dam.s81c.com/public/content/dam/worldwide-content/homepage/ul/g/2c/61/20210218-Global-Business-Services-e-25795-444x320.jpg\n",
      "data:image/svg+xml;base64,PHN2ZyB3aWR0aD0iNDQwIiBoZWlnaHQ9IjMyMCIgeG1sbnM9Imh0dHA6Ly93d3cudzMub3JnLzIwMDAvc3ZnIiB2ZXJzaW9uPSIxLjEiLz4=\n",
      "https://1.dam.s81c.com/public/content/dam/worldwide-content/homepage/ul/g/2f/20/20200118-Cloud-Pak-for-Watson-AIOps-b-25672-444x320.jpg\n",
      "data:image/svg+xml;base64,PHN2ZyB3aWR0aD0iNDQwIiBoZWlnaHQ9IjI2MCIgeG1sbnM9Imh0dHA6Ly93d3cudzMub3JnLzIwMDAvc3ZnIiB2ZXJzaW9uPSIxLjEiLz4=\n",
      "data:image/gif;base64,R0lGODlhAQABAIAAAAAAAP///yH5BAEAAAAALAAAAAABAAEAAAIBRAA7\n",
      "data:image/svg+xml;base64,PHN2ZyB3aWR0aD0iNDQwIiBoZWlnaHQ9IjI2MCIgeG1sbnM9Imh0dHA6Ly93d3cudzMub3JnLzIwMDAvc3ZnIiB2ZXJzaW9uPSIxLjEiLz4=\n",
      "data:image/gif;base64,R0lGODlhAQABAIAAAAAAAP///yH5BAEAAAAALAAAAAABAAEAAAIBRAA7\n",
      "data:image/svg+xml;base64,PHN2ZyB3aWR0aD0iNDQwIiBoZWlnaHQ9IjI2MCIgeG1sbnM9Imh0dHA6Ly93d3cudzMub3JnLzIwMDAvc3ZnIiB2ZXJzaW9uPSIxLjEiLz4=\n",
      "data:image/gif;base64,R0lGODlhAQABAIAAAAAAAP///yH5BAEAAAAALAAAAAABAAEAAAIBRAA7\n",
      "data:image/svg+xml;base64,PHN2ZyB3aWR0aD0iNDQwIiBoZWlnaHQ9IjI2MCIgeG1sbnM9Imh0dHA6Ly93d3cudzMub3JnLzIwMDAvc3ZnIiB2ZXJzaW9uPSIxLjEiLz4=\n",
      "data:image/gif;base64,R0lGODlhAQABAIAAAAAAAP///yH5BAEAAAAALAAAAAABAAEAAAIBRAA7\n",
      "https://1.dam.s81c.com/public/content/dam/worldwide-content/homepage/ul/g/28/0f/niklas-developer-diaries-thumbnail-800x450.jpg\n",
      "https://1.dam.s81c.com/public/content/dam/worldwide-content/homepage/ul/g/17/60/miscoded-credentials-developer-diaries-thumbnail-800x450.jpg\n",
      "https://1.dam.s81c.com/public/content/dam/worldwide-content/homepage/ul/g/28/cf/serveless-developer-diaries-thumbnail-800x450.jpg\n",
      "https://1.dam.s81c.com/public/content/dam/worldwide-content/homepage/ul/g/f4/ea/openshift-developer-diaries-thumbnail-800x450.jpg\n",
      "https://1.dam.s81c.com/public/content/dam/worldwide-content/homepage/ul/g/2f/51/grace-developer-diaries-thumbnail-800x450.jpg\n",
      "https://1.dam.s81c.com/public/content/dam/worldwide-content/homepage/ul/g/12/0d/pratik-developer-diaries-thumbnail-800x450.jpg\n"
     ]
    }
   ],
   "source": [
    "for link in soup.find_all('img'):# in html image is represented by the tag <img>\n",
    "    print(link.get('src'))"
   ]
  },
  {
   "cell_type": "markdown",
   "metadata": {},
   "source": [
    "## Scrape data from html tables\n"
   ]
  },
  {
   "cell_type": "code",
   "execution_count": 7,
   "metadata": {},
   "outputs": [],
   "source": [
    "#The below url contains a html table with data about colors and color codes."
   ]
  },
  {
   "cell_type": "code",
   "execution_count": 8,
   "metadata": {},
   "outputs": [],
   "source": [
    "url = \"https://cf-courses-data.s3.us.cloud-object-storage.appdomain.cloud/IBM-DA0321EN-SkillsNetwork/labs/datasets/HTMLColorCodes.html\""
   ]
  },
  {
   "cell_type": "markdown",
   "metadata": {},
   "source": [
    "Before proceeding to scrape a web site, you need to examine the contents, and the way data is organized on the website. Open the above url in your browser and check how many rows and columns are there in the color table.\n"
   ]
  },
  {
   "cell_type": "code",
   "execution_count": 9,
   "metadata": {},
   "outputs": [],
   "source": [
    "# get the contents of the webpage in text format and store in a variable called data\n",
    "data  = requests.get(url).text"
   ]
  },
  {
   "cell_type": "code",
   "execution_count": 10,
   "metadata": {},
   "outputs": [],
   "source": [
    "soup = BeautifulSoup(data,\"html5lib\")"
   ]
  },
  {
   "cell_type": "code",
   "execution_count": 11,
   "metadata": {},
   "outputs": [],
   "source": [
    "#find a html table in the web page\n",
    "table = soup.find('table') # in html table is represented by the tag <table>"
   ]
  },
  {
   "cell_type": "code",
   "execution_count": 12,
   "metadata": {},
   "outputs": [
    {
     "name": "stdout",
     "output_type": "stream",
     "text": [
      "Color Name--->Hex Code#RRGGBB\n",
      "lightsalmon--->#FFA07A\n",
      "salmon--->#FA8072\n",
      "darksalmon--->#E9967A\n",
      "lightcoral--->#F08080\n",
      "coral--->#FF7F50\n",
      "tomato--->#FF6347\n",
      "orangered--->#FF4500\n",
      "gold--->#FFD700\n",
      "orange--->#FFA500\n",
      "darkorange--->#FF8C00\n",
      "lightyellow--->#FFFFE0\n",
      "lemonchiffon--->#FFFACD\n",
      "papayawhip--->#FFEFD5\n",
      "moccasin--->#FFE4B5\n",
      "peachpuff--->#FFDAB9\n",
      "palegoldenrod--->#EEE8AA\n",
      "khaki--->#F0E68C\n",
      "darkkhaki--->#BDB76B\n",
      "yellow--->#FFFF00\n",
      "lawngreen--->#7CFC00\n",
      "chartreuse--->#7FFF00\n",
      "limegreen--->#32CD32\n",
      "lime--->#00FF00\n",
      "forestgreen--->#228B22\n",
      "green--->#008000\n",
      "powderblue--->#B0E0E6\n",
      "lightblue--->#ADD8E6\n",
      "lightskyblue--->#87CEFA\n",
      "skyblue--->#87CEEB\n",
      "deepskyblue--->#00BFFF\n",
      "lightsteelblue--->#B0C4DE\n",
      "dodgerblue--->#1E90FF\n"
     ]
    }
   ],
   "source": [
    "#Get all rows from the table\n",
    "for row in table.find_all('tr'): # in html table row is represented by the tag <tr>\n",
    "    # Get all columns in each row.\n",
    "    cols = row.find_all('td') # in html a column is represented by the tag <td>\n",
    "    color_name = cols[2].getText() # store the value in column 3 as color_name\n",
    "    color_code = cols[3].getText() # store the value in column 4 as color_code\n",
    "    print(\"{}--->{}\".format(color_name,color_code))"
   ]
  },
  {
   "cell_type": "markdown",
   "metadata": {},
   "source": [
    "## Authors\n"
   ]
  },
  {
   "cell_type": "markdown",
   "metadata": {},
   "source": [
    "Ramesh Sannareddy\n"
   ]
  },
  {
   "cell_type": "markdown",
   "metadata": {},
   "source": [
    "### Other Contributors\n"
   ]
  },
  {
   "cell_type": "markdown",
   "metadata": {},
   "source": [
    "Rav Ahuja\n"
   ]
  },
  {
   "cell_type": "markdown",
   "metadata": {},
   "source": [
    "## Change Log\n"
   ]
  },
  {
   "cell_type": "markdown",
   "metadata": {},
   "source": [
    "| Date (YYYY-MM-DD) | Version | Changed By        | Change Description                 |\n",
    "| ----------------- | ------- | ----------------- | ---------------------------------- |\n",
    "| 2020-10-17        | 0.1     | Ramesh Sannareddy | Created initial version of the lab |\n"
   ]
  },
  {
   "cell_type": "markdown",
   "metadata": {},
   "source": [
    " Copyright © 2020 IBM Corporation. This notebook and its source code are released under the terms of the [MIT License](https://cognitiveclass.ai/mit-license?cm_mmc=Email_Newsletter-_-Developer_Ed%2BTech-_-WW_WW-_-SkillsNetwork-Courses-IBM-DA0321EN-SkillsNetwork-21426264&cm_mmca1=000026UJ&cm_mmca2=10006555&cm_mmca3=M12345678&cvosrc=email.Newsletter.M12345678&cvo_campaign=000026UJ&cm_mmc=Email_Newsletter-_-Developer_Ed%2BTech-_-WW_WW-_-SkillsNetwork-Courses-IBM-DA0321EN-SkillsNetwork-21426264&cm_mmca1=000026UJ&cm_mmca2=10006555&cm_mmca3=M12345678&cvosrc=email.Newsletter.M12345678&cvo_campaign=000026UJ&cm_mmc=Email_Newsletter-_-Developer_Ed%2BTech-_-WW_WW-_-SkillsNetwork-Courses-IBM-DA0321EN-SkillsNetwork-21426264&cm_mmca1=000026UJ&cm_mmca2=10006555&cm_mmca3=M12345678&cvosrc=email.Newsletter.M12345678&cvo_campaign=000026UJ&cm_mmc=Email_Newsletter-_-Developer_Ed%2BTech-_-WW_WW-_-SkillsNetwork-Courses-IBM-DA0321EN-SkillsNetwork-21426264&cm_mmca1=000026UJ&cm_mmca2=10006555&cm_mmca3=M12345678&cvosrc=email.Newsletter.M12345678&cvo_campaign=000026UJ).\n"
   ]
  }
 ],
 "metadata": {
  "kernelspec": {
   "display_name": "Python 3.7",
   "language": "python",
   "name": "python3"
  },
  "language_info": {
   "codemirror_mode": {
    "name": "ipython",
    "version": 3
   },
   "file_extension": ".py",
   "mimetype": "text/x-python",
   "name": "python",
   "nbconvert_exporter": "python",
   "pygments_lexer": "ipython3",
   "version": "3.7.10"
  }
 },
 "nbformat": 4,
 "nbformat_minor": 4
}
